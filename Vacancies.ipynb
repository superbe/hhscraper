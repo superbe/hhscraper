{
 "cells": [
  {
   "cell_type": "markdown",
   "metadata": {},
   "source": [
    "__Вакансии:__\n",
    "- .NET .Net .net Net net\n",
    "- Angular\n",
    "- ASP.NET\n",
    "- Back End Back end Back-End Back-end Backend REST API Бэкенд-разработчик backend\n",
    "- C#\n",
    "- C++\n",
    "- CI Engineer\n",
    "- Delphi\n",
    "- Developer\n",
    "- Front End Front end Front-End Front-end FrontEnd Frontend frontend фронтэнда Фронт-энд Фронтенд\n",
    "- Full Stack Full stack Full-Stack Full-stack FullStack Fullstack full-stack\n",
    "- JS JavаScript TypeScript Typescript\n",
    "- MySQL SQL MS SQL PostgreSQL PostgreSql T-SQL СУБД\n",
    "- Python python PYTHON\n",
    "- React\n",
    "- scientist Scientist Science Deep learning ML Machine Learning компьютерного зрения анализу данных\n",
    "- WEB-developer WEB-разработчик Web Developer Web developer Web Разработчик Web разработчик Web- разработчик Web-разработчик - Веб разработчик Веб-разработчик Ведущий Backend разработчик сайтов\n",
    "- роботизации\n",
    "\n",
    "__Вариации__:\n",
    "- Team Lead Team lead\n",
    "- Middle middle\n",
    "- Senior senior\n",
    "- Ведущий\n"
   ]
  },
  {
   "cell_type": "markdown",
   "metadata": {},
   "source": [
    "#### Импортируем библиотеки"
   ]
  },
  {
   "cell_type": "code",
   "execution_count": 1,
   "metadata": {},
   "outputs": [],
   "source": [
    "import numpy as np\n",
    "import pandas as pd\n",
    "import pickle"
   ]
  },
  {
   "cell_type": "markdown",
   "metadata": {},
   "source": [
    "#### Специальные функции"
   ]
  },
  {
   "cell_type": "code",
   "execution_count": 2,
   "metadata": {},
   "outputs": [],
   "source": [
    "def collect_vacancies(vacancies):\n",
    "    result = []\n",
    "    for vacancy in vacancies:\n",
    "        for item in vacancy:\n",
    "            result.append(item)\n",
    "    return result"
   ]
  },
  {
   "cell_type": "code",
   "execution_count": 3,
   "metadata": {},
   "outputs": [],
   "source": [
    "def extract(df, names):\n",
    "    _result = pd.DataFrame(columns = df.columns.tolist())\n",
    "    vacancy_list = []\n",
    "    for word in names:\n",
    "        vacancy_list.extend(df.loc[df['vacancy'].str.contains(word)]['_id'].tolist())\n",
    "    vacancy_list = list(set(vacancy_list))\n",
    "    for id in vacancy_list:\n",
    "        data = df.loc[df['_id'] == id]\n",
    "        _result = pd.concat([_result, data], axis=0)\n",
    "    return _result"
   ]
  },
  {
   "cell_type": "code",
   "execution_count": 4,
   "metadata": {},
   "outputs": [],
   "source": [
    "def aggregate_and_count(df, vacancies, levels=None, region=None):\n",
    "    _df = extract(df, vacancies)\n",
    "#     if (levels):\n",
    "#         _df = extract(_df, levels)\n",
    "#     if (region):\n",
    "#         _df = _df.loc[_df['region'] == region]\n",
    "    _df.drop(['id', '_id', 'region', 'vacancy'],axis=1,inplace=True)\n",
    "    _df['salary'] = _df['salary'].astype('int64')\n",
    "    _result = _df.describe()['salary'].tolist()\n",
    "    _result.insert(0, vacancies[0].replace('\\\\', '') if vacancies else \"\")\n",
    "    _result.insert(1, levels[0] if levels else \"\")\n",
    "    _result.insert(2, region if region else 'Россия')\n",
    "    return _result"
   ]
  },
  {
   "cell_type": "code",
   "execution_count": 5,
   "metadata": {},
   "outputs": [],
   "source": [
    "def aggregate_vacancies(df, result, vacancies, levels=None, region=None):\n",
    "    for vacancy in vacancies:\n",
    "        row = aggregate_and_count(df, vacancy, levels, region)\n",
    "        if (row[3] > 0):\n",
    "            result.loc[len(result)] = aggregate_and_count(df, vacancy, levels, region)"
   ]
  },
  {
   "cell_type": "code",
   "execution_count": 6,
   "metadata": {},
   "outputs": [],
   "source": [
    "def aggregate_levels(df, result, vacancies, levels=None, region=None):\n",
    "    aggregate_vacancies(df, result, vacancies, region=region)\n",
    "    for level in levels:\n",
    "        _df = extract(df, level)\n",
    "        aggregate_vacancies(_df, result, vacancies, level, region)"
   ]
  },
  {
   "cell_type": "code",
   "execution_count": 7,
   "metadata": {},
   "outputs": [],
   "source": [
    "def aggregate(df, result, vacancies, levels=None, regions=None):\n",
    "#     vacancies_list = collect_vacancies(vacancies)\n",
    "#     _df = extract(df, vacancies_list)\n",
    "    aggregate_levels(_df, result, vacancies, levels)\n",
    "    print('Россия')\n",
    "    for region in regions:\n",
    "        _df_ = _df.loc[_df['region'] == region]\n",
    "        aggregate_levels(_df_, result, vacancies, levels, region)\n",
    "        print(region)"
   ]
  },
  {
   "cell_type": "code",
   "execution_count": 8,
   "metadata": {},
   "outputs": [],
   "source": [
    "vacancies = [['.NET', '.Net', '.net', 'Net', 'net'],\n",
    "['Angular', 'ANGULAR', 'angular'],\n",
    "['ASP.NET', 'Asp.NET', 'Asp.Net', 'ASP.Net', 'Asp.net', 'asp.Net', 'asp.net'],\n",
    "['Backend', 'Back End', 'Back end', 'Back-End', 'Back-end', 'REST API', 'Бэкенд-разработчик', 'backend'],\n",
    "['C#', 'c#'],\n",
    "['C\\+\\+', 'c\\+\\+'],\n",
    "['Delphi', 'delphi'],\n",
    "['Developer', 'developer'],\n",
    "['Frontend', 'Front End', 'Front end', 'front end', 'Front-End', 'Front-end', 'front-end', 'FrontEnd', 'frontend', 'Фронтэнд', 'фронтэнд', 'Фронт-энд', 'фронт-энд', 'Фронтенд', 'фронтенд'],\n",
    "['Fullstack', 'Full Stack', 'Full stack', 'full stack', 'Full-Stack', 'Full-stack', 'full-stack', 'FullStack', 'fullstack', 'full-stack', 'Фулстек', 'фулстек', 'Фулстэк', 'фулстэк'],\n",
    "['JavаScript', 'JS', 'Js', 'js', 'Javаscript', 'javаscript', 'TypeScript', 'Typescript', 'typescript'],\n",
    "['Судб', 'MySQL', 'MySql', 'Mysql', 'mysql', 'SQL', 'Sql', 'sql', 'MS SQL', 'Ms Sql', 'ms sql', 'MS-SQL', 'Ms-Sql', 'ms-sql', 'MSSQL', 'MsSql', 'mssql', 'PostgreSQL', 'PostgreSql', 'Postgresql', 'Postgresql', 'T-SQL', 'T-Sql', 'T-sql', 't-sql', 'СУБД', 'судб'],\n",
    "['PYTHON', 'Python', 'python'],\n",
    "['React', 'react'],\n",
    "['Scientist', 'scientist', 'Science', 'science', 'Deep learning', 'Deep Learning', 'deep learning', 'ML', 'Ml', 'ml', 'Machine Learning', 'Machine learning', 'machine learning', 'компьютерного зрения', 'анализу данных'],\n",
    "['Вебер', 'WEB', 'Web', 'web', 'Веб', 'веб', 'разработчик сайтов'],\n",
    "['Робототехник', 'робот'],\n",
    "['Программист', 'программист']]"
   ]
  },
  {
   "cell_type": "code",
   "execution_count": 9,
   "metadata": {},
   "outputs": [],
   "source": [
    "levels = [['Team Lead', 'Team lead', 'team lead'],\n",
    "['Senior', 'senior'],\n",
    "['Middle', 'middle'],\n",
    "['Junior', 'junior'],\n",
    "['Ведущий', 'ведущий']]"
   ]
  },
  {
   "cell_type": "markdown",
   "metadata": {},
   "source": [
    "#### Готовим данные"
   ]
  },
  {
   "cell_type": "code",
   "execution_count": 10,
   "metadata": {},
   "outputs": [],
   "source": [
    "df_initial_data = pd.read_csv('hh_15_03_2020.csv', error_bad_lines=False)"
   ]
  },
  {
   "cell_type": "code",
   "execution_count": 11,
   "metadata": {},
   "outputs": [],
   "source": [
    "vacancies_list = collect_vacancies(vacancies)"
   ]
  },
  {
   "cell_type": "code",
   "execution_count": 12,
   "metadata": {},
   "outputs": [],
   "source": [
    "df = extract(df_initial_data, vacancies_list)"
   ]
  },
  {
   "cell_type": "code",
   "execution_count": 13,
   "metadata": {},
   "outputs": [],
   "source": [
    "_df = pd.DataFrame(columns = ['id', '_id', 'region', 'vacancy', 'salary'])\n",
    "_df['id'] = _df['id'].astype('int64')\n",
    "_df['salary'] = _df['salary'].astype('int64')\n",
    "\n",
    "for index, row in df.iterrows():\n",
    "    _min_salary = int(row['min_salary'])\n",
    "    _max_salary = int(row['max_salary'])\n",
    "    _df.loc[len(_df)] = [len(_df), row['_id'], row['region'], row['vacancy'], _min_salary]\n",
    "    if (_max_salary != _min_salary):\n",
    "        _df.loc[len(_df)] = [len(_df), row['_id'] + '+', row['region'], row['vacancy'], _max_salary]"
   ]
  },
  {
   "cell_type": "markdown",
   "metadata": {},
   "source": [
    "#### Агрегируем данные и считаем статистику"
   ]
  },
  {
   "cell_type": "code",
   "execution_count": 14,
   "metadata": {},
   "outputs": [],
   "source": [
    "result = pd.DataFrame(columns = ['Вакансия', 'Квалификация', 'Регион', 'Количество вакансий', 'Средняя зарплата', 'Отклонение', 'min', '25%', 'Медианная зарплата', '75%', 'max'])"
   ]
  },
  {
   "cell_type": "code",
   "execution_count": 15,
   "metadata": {},
   "outputs": [],
   "source": [
    "regions = sorted(list(set(df['region'].tolist())))"
   ]
  },
  {
   "cell_type": "code",
   "execution_count": 16,
   "metadata": {},
   "outputs": [
    {
     "name": "stdout",
     "output_type": "stream",
     "text": [
      "Россия\n",
      "Алтайский край\n",
      "Амурская область\n",
      "Архангельская область\n",
      "Астраханская область\n",
      "Белгородская область\n",
      "Брянская область\n",
      "Владимирская область\n",
      "Волгоградская область\n",
      "Вологодская область\n",
      "Воронежская область\n",
      "Забайкальский край\n",
      "Ивановская область\n",
      "Иркутская область\n",
      "Кабардино-Балкарская республика\n",
      "Калининградская область\n",
      "Калужская область\n",
      "Камчатский край\n",
      "Кемеровская область\n",
      "Кировская область\n",
      "Костромская область\n",
      "Краснодарский край\n",
      "Красноярский край\n",
      "Курганская область\n",
      "Курская область\n",
      "Ленинградская область\n",
      "Липецкая область\n",
      "Магаданская область\n",
      "Москва\n",
      "Московская область\n",
      "Мурманская область\n",
      "Нижегородская область\n",
      "Новгородская область\n",
      "Новосибирская область\n",
      "Омская область\n",
      "Оренбургская область\n",
      "Орловская область\n",
      "Пензенская область\n",
      "Пермский край\n",
      "Приморский край\n",
      "Псковская область\n",
      "Республика Адыгея\n",
      "Республика Алтай\n",
      "Республика Башкортостан\n",
      "Республика Бурятия\n",
      "Республика Дагестан\n",
      "Республика Карелия\n",
      "Республика Коми\n",
      "Республика Крым\n",
      "Республика Марий Эл\n",
      "Республика Мордовия\n",
      "Республика Саха (Якутия)\n",
      "Республика Татарстан\n",
      "Республика Хакасия\n",
      "Ростовская область\n",
      "Рязанская область\n",
      "Самарская область\n",
      "Санкт-Петербург\n",
      "Саратовская область\n",
      "Сахалинская область\n",
      "Свердловская область\n",
      "Смоленская область\n",
      "Ставропольский край\n",
      "Тамбовская область\n",
      "Тверская область\n",
      "Томская область\n",
      "Тульская область\n",
      "Тюменская область\n",
      "Удмуртская Республика\n",
      "Ульяновская область\n",
      "Хабаровский край\n",
      "Ханты-Мансийский АО - Югра\n",
      "Челябинская область\n",
      "Чувашская Республика\n",
      "Ямало-Ненецкий АО\n",
      "Ярославская область\n"
     ]
    }
   ],
   "source": [
    "aggregate(_df, result, vacancies, levels, regions)"
   ]
  },
  {
   "cell_type": "code",
   "execution_count": 17,
   "metadata": {},
   "outputs": [
    {
     "data": {
      "text/html": [
       "<div>\n",
       "<style scoped>\n",
       "    .dataframe tbody tr th:only-of-type {\n",
       "        vertical-align: middle;\n",
       "    }\n",
       "\n",
       "    .dataframe tbody tr th {\n",
       "        vertical-align: top;\n",
       "    }\n",
       "\n",
       "    .dataframe thead th {\n",
       "        text-align: right;\n",
       "    }\n",
       "</style>\n",
       "<table border=\"1\" class=\"dataframe\">\n",
       "  <thead>\n",
       "    <tr style=\"text-align: right;\">\n",
       "      <th></th>\n",
       "      <th>Вакансия</th>\n",
       "      <th>Квалификация</th>\n",
       "      <th>Регион</th>\n",
       "      <th>Количество вакансий</th>\n",
       "      <th>Средняя зарплата</th>\n",
       "      <th>Отклонение</th>\n",
       "      <th>min</th>\n",
       "      <th>25%</th>\n",
       "      <th>Медианная зарплата</th>\n",
       "      <th>75%</th>\n",
       "      <th>max</th>\n",
       "    </tr>\n",
       "  </thead>\n",
       "  <tbody>\n",
       "    <tr>\n",
       "      <th>0</th>\n",
       "      <td>.NET</td>\n",
       "      <td></td>\n",
       "      <td>Россия</td>\n",
       "      <td>246.0</td>\n",
       "      <td>121122.191057</td>\n",
       "      <td>67084.002656</td>\n",
       "      <td>23000.0</td>\n",
       "      <td>76250.0</td>\n",
       "      <td>107070.0</td>\n",
       "      <td>150000.0</td>\n",
       "      <td>542488.0</td>\n",
       "    </tr>\n",
       "    <tr>\n",
       "      <th>1</th>\n",
       "      <td>Angular</td>\n",
       "      <td></td>\n",
       "      <td>Россия</td>\n",
       "      <td>23.0</td>\n",
       "      <td>95652.173913</td>\n",
       "      <td>39522.845747</td>\n",
       "      <td>45000.0</td>\n",
       "      <td>70000.0</td>\n",
       "      <td>90000.0</td>\n",
       "      <td>105000.0</td>\n",
       "      <td>175000.0</td>\n",
       "    </tr>\n",
       "    <tr>\n",
       "      <th>2</th>\n",
       "      <td>ASP.NET</td>\n",
       "      <td></td>\n",
       "      <td>Россия</td>\n",
       "      <td>32.0</td>\n",
       "      <td>98937.500000</td>\n",
       "      <td>50466.173596</td>\n",
       "      <td>23000.0</td>\n",
       "      <td>60000.0</td>\n",
       "      <td>100000.0</td>\n",
       "      <td>125000.0</td>\n",
       "      <td>230000.0</td>\n",
       "    </tr>\n",
       "    <tr>\n",
       "      <th>3</th>\n",
       "      <td>Backend</td>\n",
       "      <td></td>\n",
       "      <td>Россия</td>\n",
       "      <td>373.0</td>\n",
       "      <td>113178.335121</td>\n",
       "      <td>69896.375386</td>\n",
       "      <td>60.0</td>\n",
       "      <td>70000.0</td>\n",
       "      <td>100000.0</td>\n",
       "      <td>150000.0</td>\n",
       "      <td>800000.0</td>\n",
       "    </tr>\n",
       "    <tr>\n",
       "      <th>4</th>\n",
       "      <td>C#</td>\n",
       "      <td></td>\n",
       "      <td>Россия</td>\n",
       "      <td>343.0</td>\n",
       "      <td>110929.481050</td>\n",
       "      <td>77271.197799</td>\n",
       "      <td>10000.0</td>\n",
       "      <td>60000.0</td>\n",
       "      <td>100000.0</td>\n",
       "      <td>140000.0</td>\n",
       "      <td>516230.0</td>\n",
       "    </tr>\n",
       "  </tbody>\n",
       "</table>\n",
       "</div>"
      ],
      "text/plain": [
       "  Вакансия Квалификация  Регион  Количество вакансий  Средняя зарплата  \\\n",
       "0     .NET               Россия                246.0     121122.191057   \n",
       "1  Angular               Россия                 23.0      95652.173913   \n",
       "2  ASP.NET               Россия                 32.0      98937.500000   \n",
       "3  Backend               Россия                373.0     113178.335121   \n",
       "4       C#               Россия                343.0     110929.481050   \n",
       "\n",
       "     Отклонение      min      25%  Медианная зарплата       75%       max  \n",
       "0  67084.002656  23000.0  76250.0            107070.0  150000.0  542488.0  \n",
       "1  39522.845747  45000.0  70000.0             90000.0  105000.0  175000.0  \n",
       "2  50466.173596  23000.0  60000.0            100000.0  125000.0  230000.0  \n",
       "3  69896.375386     60.0  70000.0            100000.0  150000.0  800000.0  \n",
       "4  77271.197799  10000.0  60000.0            100000.0  140000.0  516230.0  "
      ]
     },
     "execution_count": 17,
     "metadata": {},
     "output_type": "execute_result"
    }
   ],
   "source": [
    "result.head()"
   ]
  },
  {
   "cell_type": "code",
   "execution_count": 19,
   "metadata": {},
   "outputs": [],
   "source": [
    "result.to_excel(\"result_data.xlsx\", sheet_name='Vacancies')"
   ]
  }
 ],
 "metadata": {
  "kernelspec": {
   "display_name": "Python 3",
   "language": "python",
   "name": "python3"
  },
  "language_info": {
   "codemirror_mode": {
    "name": "ipython",
    "version": 3
   },
   "file_extension": ".py",
   "mimetype": "text/x-python",
   "name": "python",
   "nbconvert_exporter": "python",
   "pygments_lexer": "ipython3",
   "version": "3.6.5"
  }
 },
 "nbformat": 4,
 "nbformat_minor": 2
}
